{
  "nbformat": 4,
  "nbformat_minor": 0,
  "metadata": {
    "colab": {
      "provenance": []
    },
    "kernelspec": {
      "name": "python3",
      "display_name": "Python 3"
    },
    "language_info": {
      "name": "python"
    }
  },
  "cells": [
    {
      "cell_type": "markdown",
      "source": [
        "*TORRES JIMENEZ JUDITH*\n",
        "**Final Exam: Python for Data Science**"
      ],
      "metadata": {
        "id": "ZgfJvT6hQq68"
      }
    },
    {
      "cell_type": "markdown",
      "source": [
        "TASK 1: Write a program using a for loop to print the square of numbers from 1 to 123"
      ],
      "metadata": {
        "id": "T2kZWLohH0o2"
      }
    },
    {
      "cell_type": "code",
      "execution_count": 6,
      "metadata": {
        "colab": {
          "base_uri": "https://localhost:8080/"
        },
        "id": "0Oftv4hNGe-9",
        "outputId": "0edce6fd-fbdb-4a76-e4f0-5890377863a0"
      },
      "outputs": [
        {
          "output_type": "stream",
          "name": "stdout",
          "text": [
            "1\n",
            "4\n",
            "9\n",
            "16\n",
            "25\n",
            "36\n",
            "49\n",
            "64\n",
            "81\n",
            "100\n",
            "121\n",
            "144\n",
            "169\n",
            "196\n",
            "225\n",
            "256\n",
            "289\n",
            "324\n",
            "361\n",
            "400\n",
            "441\n",
            "484\n",
            "529\n",
            "576\n",
            "625\n",
            "676\n",
            "729\n",
            "784\n",
            "841\n",
            "900\n",
            "961\n",
            "1024\n",
            "1089\n",
            "1156\n",
            "1225\n",
            "1296\n",
            "1369\n",
            "1444\n",
            "1521\n",
            "1600\n",
            "1681\n",
            "1764\n",
            "1849\n",
            "1936\n",
            "2025\n",
            "2116\n",
            "2209\n",
            "2304\n",
            "2401\n",
            "2500\n",
            "2601\n",
            "2704\n",
            "2809\n",
            "2916\n",
            "3025\n",
            "3136\n",
            "3249\n",
            "3364\n",
            "3481\n",
            "3600\n",
            "3721\n",
            "3844\n",
            "3969\n",
            "4096\n",
            "4225\n",
            "4356\n",
            "4489\n",
            "4624\n",
            "4761\n",
            "4900\n",
            "5041\n",
            "5184\n",
            "5329\n",
            "5476\n",
            "5625\n",
            "5776\n",
            "5929\n",
            "6084\n",
            "6241\n",
            "6400\n",
            "6561\n",
            "6724\n",
            "6889\n",
            "7056\n",
            "7225\n",
            "7396\n",
            "7569\n",
            "7744\n",
            "7921\n",
            "8100\n",
            "8281\n",
            "8464\n",
            "8649\n",
            "8836\n",
            "9025\n",
            "9216\n",
            "9409\n",
            "9604\n",
            "9801\n",
            "10000\n",
            "10201\n",
            "10404\n",
            "10609\n",
            "10816\n",
            "11025\n",
            "11236\n",
            "11449\n",
            "11664\n",
            "11881\n",
            "12100\n",
            "12321\n",
            "12544\n",
            "12769\n",
            "12996\n",
            "13225\n",
            "13456\n",
            "13689\n",
            "13924\n",
            "14161\n",
            "14400\n",
            "14641\n",
            "14884\n",
            "15129\n"
          ]
        }
      ],
      "source": [
        "for num in range(1, 124): # Here we create the for loop so it starts with 1 and finish in 124\n",
        "    print(num ** 2) # Then we print the square of the current number"
      ]
    },
    {
      "cell_type": "markdown",
      "source": [
        "TASK 2: Define a function check_grades (grades) that: Takes a list of numbers(grades). For each grade, prints: \"Pass\" if the grade is 75 or more. \"No\" otherwise.\n",
        "Test it with a list of at least 5 grades.\n"
      ],
      "metadata": {
        "id": "70tIgF2SIaLv"
      }
    },
    {
      "cell_type": "code",
      "source": [
        "def check_grades(grades): # we create a function called check_grades that uses a for loop\n",
        "  for grade in grades: # we create our for loop\n",
        "    if grade >= 75: # so it checks the grades one by one, and if the grade is bigger or\n",
        "      print(\"Pass\") # equal to 75 then it shows the message 'Pass'\n",
        "    else:\n",
        "      print(\"No\") # otherwise it shows a \"No\"\n",
        "\n",
        "my_grades = [80, 70, 90, 60, 75, 85] # Here i created a list of grades so we can use it to test the function\n",
        "check_grades(my_grades) # Here we call the function with our list"
      ],
      "metadata": {
        "colab": {
          "base_uri": "https://localhost:8080/"
        },
        "id": "qq96dFHwIkhj",
        "outputId": "1f0698a9-f14c-41e8-90ac-04fed0bd7e28"
      },
      "execution_count": 7,
      "outputs": [
        {
          "output_type": "stream",
          "name": "stdout",
          "text": [
            "Pass\n",
            "No\n",
            "Pass\n",
            "No\n",
            "Pass\n",
            "Pass\n"
          ]
        }
      ]
    },
    {
      "cell_type": "markdown",
      "source": [
        "TASK 3: Write a function count_vowels(text) that counts the number of vowels (a, e, i, o, u) in a given string. Print the count and also print how many times each vowel appears.\n",
        "Your string: “Data is the nutrition of artificial intelligence. When an AI eats junk food, it's not going to perform very well.”  Matthew Emerick\n"
      ],
      "metadata": {
        "id": "vLdB7oJoJcuH"
      }
    },
    {
      "cell_type": "code",
      "source": [
        "def count_vowels(text): #we create the function\n",
        "  vowels = \"aeiouAEIOU\"  # we create our variable with all the vowels in lower and upper case\n",
        "  vowel_counts = {'a': 0, 'e': 0, 'i': 0, 'o': 0, 'u': 0} # i create a dictionary that stores each vowel and we put a 0 so we can count them after\n",
        "  total_vowels = 0 # this is going to help us track the total number\n",
        "  # of vowels found\n",
        "\n",
        "  for char in text: # we create a loop\n",
        "    if char in vowels: # so it checks if the character is a vowel\n",
        "      total_vowels += 1 # counter for the total of vowels\n",
        "      # Convert to lowercase to count both cases together\n",
        "      vowel_counts[char.lower()] += 1 #this is our counter\n",
        "\n",
        "  print(f\"Total number of vowels: {total_vowels}\") # we print the total number of vowels\n",
        "  print(\"Vowel counts:\") # we print the count of each vowel\n",
        "  for vowel, count in vowel_counts.items(): # here is for showing the count of each vowel\n",
        "    print(f\"{vowel}: {count}\")  # we print the count of each vowel example: a: 8\n",
        "\n",
        "# we create a variable text with the text given\n",
        "text = \"Data is the nutrition of artificial intelligence. When an AI eats junk food, it's not going to perform very well. Matthew Emerick\"\n",
        "count_vowels(text) # we run our function with the text given"
      ],
      "metadata": {
        "colab": {
          "base_uri": "https://localhost:8080/"
        },
        "id": "P7Y2ic1vJgEb",
        "outputId": "e66ad232-4a64-49ad-9a05-8c4f077abab0"
      },
      "execution_count": 9,
      "outputs": [
        {
          "output_type": "stream",
          "name": "stdout",
          "text": [
            "Total number of vowels: 42\n",
            "Vowel counts:\n",
            "a: 8\n",
            "e: 12\n",
            "i: 12\n",
            "o: 8\n",
            "u: 2\n"
          ]
        }
      ]
    },
    {
      "cell_type": "markdown",
      "source": [
        "TASK 4: You are designing a simple data collection tool where users keep entering numbers until they decide to stop. This is useful in real-life scenarios such as survey inputs, form data, or sensor readings. Write a program that:\n",
        "1. Asks the user to enter numbers one by one.\n",
        "2. Keeps storing them in a list.\n",
        "3. The loop continues until the user enters \"done\" (case insensitive).\n",
        "4. After exiting the loop, the program prints:The total number of values entered and The average of the numbers (rounded to 2 decimal places).\n",
        "Skip empty inputs or non-numeric entries with a message like \"Invalid input. Try again.\"\n",
        "Use a while loop.\n"
      ],
      "metadata": {
        "id": "VG6rjhTnK54k"
      }
    },
    {
      "cell_type": "code",
      "source": [
        "numbers = []  # we start by creating a list to store all the numbers\n",
        "\n",
        "while True:  # we use a while to create an infinite loop\n",
        "    number_input = input(\"Please enter a number and type 'done' to finish: \")  # we ask the person for a number\n",
        "\n",
        "    if number_input.lower() == 'done': # if the person writes 'done'\n",
        "        break  # then we finish the loop\n",
        "\n",
        "    if number_input.strip() == \"\":  # we check if we have numbers in our list or not\n",
        "        print(\"Invalid input. Try again.\") # to tell the user if it was a correct input\n",
        "        continue  # we continue\n",
        "\n",
        "    try:\n",
        "        number = float(number_input)  # now we try to convert the input into a float\n",
        "        numbers.append(number)  # we add the input into our list if it is valid\n",
        "    except ValueError: # if it is not valid\n",
        "        print(\"Invalid input. Try again.\")  # we show this message\n",
        "\n",
        "print(\"\\nYou have finished\") # when the loop ends, we show the results\n",
        "\n",
        "if numbers:  # if the list is not empty\n",
        "    total = len(numbers) # we check how many numbers did the user enter\n",
        "    average = round(sum(numbers) / total, 2) # we calculate the average rounded to 2 decimal\n",
        "    print(\"Total numbers entered:\", total) # we print the count of the numbers entered\n",
        "    print(\"Average of numbers:\", average) # we print the average\n",
        "else:\n",
        "    print(\"No valid numbers were entered.\") # in case there were no valid numbers entered\n"
      ],
      "metadata": {
        "colab": {
          "base_uri": "https://localhost:8080/"
        },
        "id": "AgSIGfRUUWLR",
        "outputId": "a783b09d-7aa6-466b-d74b-053d346ad4d2"
      },
      "execution_count": 15,
      "outputs": [
        {
          "output_type": "stream",
          "name": "stdout",
          "text": [
            "Please enter a number and type 'done' to finish: 25\n",
            "Please enter a number and type 'done' to finish: 4\n",
            "Please enter a number and type 'done' to finish: 10\n",
            "Please enter a number and type 'done' to finish: 3\n",
            "Please enter a number and type 'done' to finish: done\n",
            "\n",
            "You have finished\n",
            "Total numbers entered: 4\n",
            "Average of numbers: 10.5\n"
          ]
        }
      ]
    },
    {
      "cell_type": "markdown",
      "source": [
        "TASK 5:"
      ],
      "metadata": {
        "id": "RCX46kbgMNz8"
      }
    },
    {
      "cell_type": "markdown",
      "source": [
        "You are analyzing customer purchase data where each customer can make multiple purchases. The data is stored in a list of tuples like this\n",
        "[(\"Alice\", 120), (\"Bob\", 80), (\"Alice\", 50), (\"Bob\", 20), (\"Clara\", 200)]\n",
        "Write a program that:\n",
        "1. Iterates over the list of purchases.\n",
        "2. Stores total purchases per customer using a dictionary.\n",
        "3. Prints out how much each customer spent in total.\n",
        "Expected Output Example:\n",
        "Alice spent $170\n",
        "Bob spent $100 …\n"
      ],
      "metadata": {
        "id": "kFHmUkTyV0cY"
      }
    },
    {
      "cell_type": "code",
      "source": [
        "purchases = [(\"Alice\", 120), (\"Bob\", 80), (\"Alice\", 50), (\"Bob\", 20), (\"Clara\", 200)] # here we create a variable\n",
        "# called purchases and we store the data in a list like shown\n",
        "\n",
        "customer_totals = {} # we create a dictionary for storing the list of total spent per customer\n",
        "for customer, amount in purchases: # we start our for cycle taking into account the customer and the amount spent\n",
        "    if customer in customer_totals: # we check if our customer is already in the dictionary\n",
        "        customer_totals[customer] += amount # if yes, we add the current amount to the total\n",
        "    else:\n",
        "        customer_totals[customer] = amount # otherwise, we create a new entry with the total amount\n",
        "for customer in customer_totals:  # we create a loop over each customer in the dictionary\n",
        "    total_spent = customer_totals[customer]  # we calculate the total spent by customer\n",
        "    print(customer, \"spent $\", total_spent)  # we print the name of the customer and how much they spent"
      ],
      "metadata": {
        "colab": {
          "base_uri": "https://localhost:8080/"
        },
        "id": "paojvjZ3MP8S",
        "outputId": "21a354a7-756f-417b-b7c6-87d94a1b7e6e"
      },
      "execution_count": 17,
      "outputs": [
        {
          "output_type": "stream",
          "name": "stdout",
          "text": [
            "Alice spent $ 170\n",
            "Bob spent $ 100\n",
            "Clara spent $ 200\n"
          ]
        }
      ]
    },
    {
      "cell_type": "markdown",
      "source": [
        "TASK 6: Use the wbdata package to get Population data for the country: Canada from 2010 to 2020. Print the results in a readable way (country, year, population)."
      ],
      "metadata": {
        "id": "8xAt3ZU-MQfR"
      }
    },
    {
      "cell_type": "code",
      "source": [
        "pip install wbdata # we install wbdata"
      ],
      "metadata": {
        "colab": {
          "base_uri": "https://localhost:8080/"
        },
        "id": "CC7bNBE1XUh7",
        "outputId": "6618b9d3-7e1e-4f95-8b3e-a2be0321bdba"
      },
      "execution_count": 18,
      "outputs": [
        {
          "output_type": "stream",
          "name": "stdout",
          "text": [
            "Requirement already satisfied: wbdata in /usr/local/lib/python3.11/dist-packages (1.0.0)\n",
            "Requirement already satisfied: appdirs<2.0,>=1.4 in /usr/local/lib/python3.11/dist-packages (from wbdata) (1.4.4)\n",
            "Requirement already satisfied: backoff<3.0.0,>=2.2.1 in /usr/local/lib/python3.11/dist-packages (from wbdata) (2.2.1)\n",
            "Requirement already satisfied: cachetools<6.0.0,>=5.3.2 in /usr/local/lib/python3.11/dist-packages (from wbdata) (5.5.2)\n",
            "Requirement already satisfied: dateparser<2.0.0,>=1.2.0 in /usr/local/lib/python3.11/dist-packages (from wbdata) (1.2.2)\n",
            "Requirement already satisfied: decorator<6.0.0,>=5.1.1 in /usr/local/lib/python3.11/dist-packages (from wbdata) (5.2.1)\n",
            "Requirement already satisfied: requests<3.0,>=2.0 in /usr/local/lib/python3.11/dist-packages (from wbdata) (2.32.3)\n",
            "Requirement already satisfied: shelved-cache<0.4.0,>=0.3.1 in /usr/local/lib/python3.11/dist-packages (from wbdata) (0.3.1)\n",
            "Requirement already satisfied: tabulate<0.9.0,>=0.8.5 in /usr/local/lib/python3.11/dist-packages (from wbdata) (0.8.10)\n",
            "Requirement already satisfied: python-dateutil>=2.7.0 in /usr/local/lib/python3.11/dist-packages (from dateparser<2.0.0,>=1.2.0->wbdata) (2.9.0.post0)\n",
            "Requirement already satisfied: pytz>=2024.2 in /usr/local/lib/python3.11/dist-packages (from dateparser<2.0.0,>=1.2.0->wbdata) (2025.2)\n",
            "Requirement already satisfied: regex>=2024.9.11 in /usr/local/lib/python3.11/dist-packages (from dateparser<2.0.0,>=1.2.0->wbdata) (2024.11.6)\n",
            "Requirement already satisfied: tzlocal>=0.2 in /usr/local/lib/python3.11/dist-packages (from dateparser<2.0.0,>=1.2.0->wbdata) (5.3.1)\n",
            "Requirement already satisfied: charset-normalizer<4,>=2 in /usr/local/lib/python3.11/dist-packages (from requests<3.0,>=2.0->wbdata) (3.4.2)\n",
            "Requirement already satisfied: idna<4,>=2.5 in /usr/local/lib/python3.11/dist-packages (from requests<3.0,>=2.0->wbdata) (3.10)\n",
            "Requirement already satisfied: urllib3<3,>=1.21.1 in /usr/local/lib/python3.11/dist-packages (from requests<3.0,>=2.0->wbdata) (2.4.0)\n",
            "Requirement already satisfied: certifi>=2017.4.17 in /usr/local/lib/python3.11/dist-packages (from requests<3.0,>=2.0->wbdata) (2025.7.14)\n",
            "Requirement already satisfied: six>=1.5 in /usr/local/lib/python3.11/dist-packages (from python-dateutil>=2.7.0->dateparser<2.0.0,>=1.2.0->wbdata) (1.17.0)\n"
          ]
        }
      ]
    },
    {
      "cell_type": "code",
      "source": [
        "import wbdata # we import the wbdata\n",
        "import pandas as pd # we import pandas as pd\n",
        "\n",
        "country_code = \"CA\" # we have the country canada, so we have to create a variable\n",
        "# with its country code\n",
        "indicator = {\"SP.POP.TOTL\": \"Population\"} # we create a variable with the indicator\n",
        "\n",
        "data = wbdata.get_dataframe(indicator, country=country_code) # here we create a variable\n",
        " # with the data from canada\n",
        "\n",
        "data = data.reset_index() # we reset the index of the data as a column\n",
        "\n",
        "data['date'] = pd.to_datetime(data['date']) # we convert the information of the date column if it is not ready\n",
        "# this is important because there could be a problem is the data is not correct\n",
        "\n",
        "data = data[(data['date'].dt.year >= 2010) & (data['date'].dt.year <= 2020)] # we were asked to get the data from 2010 to 2020, so here we make the  filter\n",
        "\n",
        "for _, row in data.iterrows(): # we use a for to check all the data with our filter\n",
        "    year = row['date'].year # checks the year\n",
        "    population = int(row['Population']) # checks the population\n",
        "    print(f\"Country: Canada - Year: {year} - Population: {population}\") # we print the results\n"
      ],
      "metadata": {
        "colab": {
          "base_uri": "https://localhost:8080/"
        },
        "id": "J9Bk4u_aYs_j",
        "outputId": "bd447489-65b2-4fc1-fa3d-619aee4dbc2d"
      },
      "execution_count": 31,
      "outputs": [
        {
          "output_type": "stream",
          "name": "stdout",
          "text": [
            "Country: Canada - Year: 2020 - Population: 38028638\n",
            "Country: Canada - Year: 2019 - Population: 37618495\n",
            "Country: Canada - Year: 2018 - Population: 37072620\n",
            "Country: Canada - Year: 2017 - Population: 36545075\n",
            "Country: Canada - Year: 2016 - Population: 36110803\n",
            "Country: Canada - Year: 2015 - Population: 35704498\n",
            "Country: Canada - Year: 2014 - Population: 35434066\n",
            "Country: Canada - Year: 2013 - Population: 35080992\n",
            "Country: Canada - Year: 2012 - Population: 34713395\n",
            "Country: Canada - Year: 2011 - Population: 34339221\n",
            "Country: Canada - Year: 2010 - Population: 34005902\n"
          ]
        }
      ]
    },
    {
      "cell_type": "markdown",
      "source": [
        "\n",
        "\n",
        "---\n",
        "\n",
        "PART 2:\n",
        "Conduct EDA, Data Processing and Analysis (any insights about your data) using pandas and any library for viz.\n",
        "Add visualisation, which explains your insights and EDA, using at least 5 different charts to use."
      ],
      "metadata": {
        "id": "ZxVe7utCavqi"
      }
    }
  ]
}